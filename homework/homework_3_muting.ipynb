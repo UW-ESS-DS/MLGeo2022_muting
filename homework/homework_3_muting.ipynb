{
 "cells": [
  {
   "cell_type": "markdown",
   "metadata": {},
   "source": [
    "# Homework 3\n",
    "\n",
    "This homework will explore linear regression and resampling techniques by analyzing data from a database of glaciers. The database is *Glatilda* for [*Glacier Ice Thickness Database*](!https://www.gtn-g.ch/data_catalogue_glathida/).\n",
    "\n",
    "1. Data prep (5 points)\n",
    "2. Mapping (10 points)\n",
    "3. Correlations between parameters (5 points)\n",
    "4. Linear regression and resampling techniques (10 points)\n",
    "\n",
    "## 1. Data Prep (5 points total)\n",
    "\n",
    "### a) Download data (1 point) \n",
    "The database is saved on a GitLab repository that you may clone: https://gitlab.com/wgms/glathida.git\n",
    "\n"
   ]
  },
  {
   "cell_type": "code",
   "execution_count": 1,
   "metadata": {},
   "outputs": [
    {
     "name": "stdout",
     "output_type": "stream",
     "text": [
      "Cloning into 'glathida'...\n",
      "remote: Enumerating objects: 785, done.\u001b[K\n",
      "remote: Counting objects: 100% (252/252), done.\u001b[K\n",
      "remote: Compressing objects: 100% (103/103), done.\u001b[K\n",
      "remote: Total 785 (delta 149), reused 233 (delta 143), pack-reused 533\u001b[K\n",
      "Receiving objects: 100% (785/785), 139.83 MiB | 14.72 MiB/s, done.\n",
      "Resolving deltas: 100% (460/460), done.\n",
      "Checking out files: 100% (25/25), done.\n"
     ]
    }
   ],
   "source": [
    "# answer\n",
    "!git clone https://gitlab.com/wgms/glathida.git"
   ]
  },
  {
   "cell_type": "markdown",
   "metadata": {},
   "source": [
    "### b) Import Python modules (1 point) \n",
    "Import pandas, geopandas, plotting, raster files,  numpy, netcdf"
   ]
  },
  {
   "cell_type": "code",
   "execution_count": 15,
   "metadata": {},
   "outputs": [],
   "source": [
    "# solution\n",
    "import pandas as pd\n",
    "import geopandas as geopd\n",
    "import matplotlib.pyplot as plt\n",
    "import rasterio\n",
    "import numpy as np\n",
    "import netCDF4 as nc\n",
    "import requests\n",
    "import io"
   ]
  },
  {
   "cell_type": "markdown",
   "metadata": {},
   "source": [
    "### c) Read data (2 points)\n",
    "Read the glacier data from the file ``glathida/data/glacier.csv`` into a pandas data frame, and decribe briefly the dataframe content and its first few lines."
   ]
  },
  {
   "cell_type": "code",
   "execution_count": 4,
   "metadata": {},
   "outputs": [
    {
     "data": {
      "text/html": [
       "<div>\n",
       "<style scoped>\n",
       "    .dataframe tbody tr th:only-of-type {\n",
       "        vertical-align: middle;\n",
       "    }\n",
       "\n",
       "    .dataframe tbody tr th {\n",
       "        vertical-align: top;\n",
       "    }\n",
       "\n",
       "    .dataframe thead th {\n",
       "        text-align: right;\n",
       "    }\n",
       "</style>\n",
       "<table border=\"1\" class=\"dataframe\">\n",
       "  <thead>\n",
       "    <tr style=\"text-align: right;\">\n",
       "      <th></th>\n",
       "      <th>id</th>\n",
       "      <th>survey_id</th>\n",
       "      <th>name</th>\n",
       "      <th>external_db</th>\n",
       "      <th>external_id</th>\n",
       "      <th>lat</th>\n",
       "      <th>lon</th>\n",
       "      <th>date</th>\n",
       "      <th>max_date</th>\n",
       "      <th>area</th>\n",
       "      <th>...</th>\n",
       "      <th>mean_thickness</th>\n",
       "      <th>mean_thickness_uncertainty</th>\n",
       "      <th>max_thickness</th>\n",
       "      <th>max_thickness_uncertainty</th>\n",
       "      <th>number_points</th>\n",
       "      <th>number_profiles</th>\n",
       "      <th>length_profiles</th>\n",
       "      <th>interpolation_method</th>\n",
       "      <th>flag</th>\n",
       "      <th>remarks</th>\n",
       "    </tr>\n",
       "  </thead>\n",
       "  <tbody>\n",
       "    <tr>\n",
       "      <th>0</th>\n",
       "      <td>1</td>\n",
       "      <td>1</td>\n",
       "      <td>Isfallsglaciären</td>\n",
       "      <td>WGI</td>\n",
       "      <td>SE4B000E0006</td>\n",
       "      <td>67.91500</td>\n",
       "      <td>18.56800</td>\n",
       "      <td>1979-03-01</td>\n",
       "      <td>1979-03-31</td>\n",
       "      <td>1.3</td>\n",
       "      <td>...</td>\n",
       "      <td>72.0</td>\n",
       "      <td>NaN</td>\n",
       "      <td>220.0</td>\n",
       "      <td>NaN</td>\n",
       "      <td>NaN</td>\n",
       "      <td>NaN</td>\n",
       "      <td>NaN</td>\n",
       "      <td>NaN</td>\n",
       "      <td>NaN</td>\n",
       "      <td>NaN</td>\n",
       "    </tr>\n",
       "    <tr>\n",
       "      <th>1</th>\n",
       "      <td>2</td>\n",
       "      <td>1</td>\n",
       "      <td>Rabots glaciär</td>\n",
       "      <td>WGI</td>\n",
       "      <td>SE4B000E1016</td>\n",
       "      <td>67.91000</td>\n",
       "      <td>18.49600</td>\n",
       "      <td>1979-03-01</td>\n",
       "      <td>1979-03-31</td>\n",
       "      <td>4.1</td>\n",
       "      <td>...</td>\n",
       "      <td>84.0</td>\n",
       "      <td>NaN</td>\n",
       "      <td>175.0</td>\n",
       "      <td>NaN</td>\n",
       "      <td>NaN</td>\n",
       "      <td>10.0</td>\n",
       "      <td>NaN</td>\n",
       "      <td>NaN</td>\n",
       "      <td>NaN</td>\n",
       "      <td>NaN</td>\n",
       "    </tr>\n",
       "    <tr>\n",
       "      <th>2</th>\n",
       "      <td>3</td>\n",
       "      <td>1</td>\n",
       "      <td>Storglaciären</td>\n",
       "      <td>WGI</td>\n",
       "      <td>SE4B000E0005</td>\n",
       "      <td>67.90000</td>\n",
       "      <td>18.57000</td>\n",
       "      <td>1979-03-01</td>\n",
       "      <td>1979-03-31</td>\n",
       "      <td>3.1</td>\n",
       "      <td>...</td>\n",
       "      <td>99.0</td>\n",
       "      <td>NaN</td>\n",
       "      <td>250.0</td>\n",
       "      <td>NaN</td>\n",
       "      <td>NaN</td>\n",
       "      <td>NaN</td>\n",
       "      <td>NaN</td>\n",
       "      <td>NaN</td>\n",
       "      <td>NaN</td>\n",
       "      <td>NaN</td>\n",
       "    </tr>\n",
       "    <tr>\n",
       "      <th>3</th>\n",
       "      <td>4</td>\n",
       "      <td>2</td>\n",
       "      <td>South Cascade Glacier</td>\n",
       "      <td>WGI</td>\n",
       "      <td>US2M00264006</td>\n",
       "      <td>48.35698</td>\n",
       "      <td>-121.05735</td>\n",
       "      <td>1975-01-01</td>\n",
       "      <td>1975-12-31</td>\n",
       "      <td>2.0</td>\n",
       "      <td>...</td>\n",
       "      <td>99.0</td>\n",
       "      <td>NaN</td>\n",
       "      <td>195.0</td>\n",
       "      <td>NaN</td>\n",
       "      <td>NaN</td>\n",
       "      <td>NaN</td>\n",
       "      <td>NaN</td>\n",
       "      <td>NaN</td>\n",
       "      <td>NaN</td>\n",
       "      <td>NaN</td>\n",
       "    </tr>\n",
       "    <tr>\n",
       "      <th>4</th>\n",
       "      <td>5</td>\n",
       "      <td>3</td>\n",
       "      <td>Athabasca Glacier</td>\n",
       "      <td>FOG</td>\n",
       "      <td>7</td>\n",
       "      <td>52.17540</td>\n",
       "      <td>-117.28400</td>\n",
       "      <td>NaN</td>\n",
       "      <td>NaN</td>\n",
       "      <td>3.8</td>\n",
       "      <td>...</td>\n",
       "      <td>150.0</td>\n",
       "      <td>NaN</td>\n",
       "      <td>NaN</td>\n",
       "      <td>NaN</td>\n",
       "      <td>NaN</td>\n",
       "      <td>NaN</td>\n",
       "      <td>NaN</td>\n",
       "      <td>NaN</td>\n",
       "      <td>NaN</td>\n",
       "      <td>NaN</td>\n",
       "    </tr>\n",
       "  </tbody>\n",
       "</table>\n",
       "<p>5 rows × 21 columns</p>\n",
       "</div>"
      ],
      "text/plain": [
       "   id  survey_id                   name external_db   external_id       lat  \\\n",
       "0   1          1       Isfallsglaciären         WGI  SE4B000E0006  67.91500   \n",
       "1   2          1         Rabots glaciär         WGI  SE4B000E1016  67.91000   \n",
       "2   3          1          Storglaciären         WGI  SE4B000E0005  67.90000   \n",
       "3   4          2  South Cascade Glacier         WGI  US2M00264006  48.35698   \n",
       "4   5          3      Athabasca Glacier         FOG             7  52.17540   \n",
       "\n",
       "         lon        date    max_date  area  ...  mean_thickness  \\\n",
       "0   18.56800  1979-03-01  1979-03-31   1.3  ...            72.0   \n",
       "1   18.49600  1979-03-01  1979-03-31   4.1  ...            84.0   \n",
       "2   18.57000  1979-03-01  1979-03-31   3.1  ...            99.0   \n",
       "3 -121.05735  1975-01-01  1975-12-31   2.0  ...            99.0   \n",
       "4 -117.28400         NaN         NaN   3.8  ...           150.0   \n",
       "\n",
       "   mean_thickness_uncertainty  max_thickness  max_thickness_uncertainty  \\\n",
       "0                         NaN          220.0                        NaN   \n",
       "1                         NaN          175.0                        NaN   \n",
       "2                         NaN          250.0                        NaN   \n",
       "3                         NaN          195.0                        NaN   \n",
       "4                         NaN            NaN                        NaN   \n",
       "\n",
       "   number_points  number_profiles  length_profiles  interpolation_method flag  \\\n",
       "0            NaN              NaN              NaN                   NaN  NaN   \n",
       "1            NaN             10.0              NaN                   NaN  NaN   \n",
       "2            NaN              NaN              NaN                   NaN  NaN   \n",
       "3            NaN              NaN              NaN                   NaN  NaN   \n",
       "4            NaN              NaN              NaN                   NaN  NaN   \n",
       "\n",
       "  remarks  \n",
       "0     NaN  \n",
       "1     NaN  \n",
       "2     NaN  \n",
       "3     NaN  \n",
       "4     NaN  \n",
       "\n",
       "[5 rows x 21 columns]"
      ]
     },
     "execution_count": 4,
     "metadata": {},
     "output_type": "execute_result"
    }
   ],
   "source": [
    "# solution\n",
    "t_path = \"glathida/data/glacier.csv\"\n",
    "ds = pd.read_csv(t_path)\n",
    "ds.head()"
   ]
  },
  {
   "cell_type": "markdown",
   "metadata": {},
   "source": [
    "**Explore the data with visualization**\n",
    "Before making any inference of models with the data, we will start by exploring basic correlations among parameters by plotting. In particular, we will focus on ``mean_thickness``, ``area``, ``mean_slope`` parameters.\n",
    "\n",
    "### d) Remove bad data (1 point)\n",
    "\n",
    "The database may contain Nans and other \"bad\" values (welcome to the data world!). First we will clean the data by removing nans. We are mostly interested in the thickness, area, and slope\n",
    "\n"
   ]
  },
  {
   "cell_type": "code",
   "execution_count": 27,
   "metadata": {},
   "outputs": [
    {
     "data": {
      "text/html": [
       "<div>\n",
       "<style scoped>\n",
       "    .dataframe tbody tr th:only-of-type {\n",
       "        vertical-align: middle;\n",
       "    }\n",
       "\n",
       "    .dataframe tbody tr th {\n",
       "        vertical-align: top;\n",
       "    }\n",
       "\n",
       "    .dataframe thead th {\n",
       "        text-align: right;\n",
       "    }\n",
       "</style>\n",
       "<table border=\"1\" class=\"dataframe\">\n",
       "  <thead>\n",
       "    <tr style=\"text-align: right;\">\n",
       "      <th></th>\n",
       "      <th>name</th>\n",
       "      <th>lat</th>\n",
       "      <th>lon</th>\n",
       "      <th>mean_thickness</th>\n",
       "      <th>area</th>\n",
       "      <th>mean_slope</th>\n",
       "    </tr>\n",
       "  </thead>\n",
       "  <tbody>\n",
       "    <tr>\n",
       "      <th>32</th>\n",
       "      <td>Easton Glacier</td>\n",
       "      <td>48.750000</td>\n",
       "      <td>-121.830000</td>\n",
       "      <td>58.0</td>\n",
       "      <td>2.900</td>\n",
       "      <td>0.0</td>\n",
       "    </tr>\n",
       "    <tr>\n",
       "      <th>33</th>\n",
       "      <td>Lemon Creek Glacier</td>\n",
       "      <td>58.380000</td>\n",
       "      <td>-134.360000</td>\n",
       "      <td>66.0</td>\n",
       "      <td>11.700</td>\n",
       "      <td>0.0</td>\n",
       "    </tr>\n",
       "    <tr>\n",
       "      <th>34</th>\n",
       "      <td>Praviy Aktru</td>\n",
       "      <td>50.061340</td>\n",
       "      <td>87.697410</td>\n",
       "      <td>56.0</td>\n",
       "      <td>5.150</td>\n",
       "      <td>0.0</td>\n",
       "    </tr>\n",
       "    <tr>\n",
       "      <th>35</th>\n",
       "      <td>Maliy Aktru</td>\n",
       "      <td>50.049670</td>\n",
       "      <td>87.745520</td>\n",
       "      <td>86.0</td>\n",
       "      <td>2.840</td>\n",
       "      <td>0.0</td>\n",
       "    </tr>\n",
       "    <tr>\n",
       "      <th>36</th>\n",
       "      <td>Leviy Aktru</td>\n",
       "      <td>50.080080</td>\n",
       "      <td>87.690250</td>\n",
       "      <td>90.0</td>\n",
       "      <td>5.950</td>\n",
       "      <td>0.0</td>\n",
       "    </tr>\n",
       "    <tr>\n",
       "      <th>...</th>\n",
       "      <td>...</td>\n",
       "      <td>...</td>\n",
       "      <td>...</td>\n",
       "      <td>...</td>\n",
       "      <td>...</td>\n",
       "      <td>...</td>\n",
       "    </tr>\n",
       "    <tr>\n",
       "      <th>619</th>\n",
       "      <td>Blekumbreen</td>\n",
       "      <td>78.245480</td>\n",
       "      <td>16.064380</td>\n",
       "      <td>32.0</td>\n",
       "      <td>2.100</td>\n",
       "      <td>13.0</td>\n",
       "    </tr>\n",
       "    <tr>\n",
       "      <th>627</th>\n",
       "      <td>Tuyuksu (central)</td>\n",
       "      <td>43.043653</td>\n",
       "      <td>77.080587</td>\n",
       "      <td>47.0</td>\n",
       "      <td>2.610</td>\n",
       "      <td>20.0</td>\n",
       "    </tr>\n",
       "    <tr>\n",
       "      <th>631</th>\n",
       "      <td>Aldegondabreen</td>\n",
       "      <td>77.971400</td>\n",
       "      <td>14.069100</td>\n",
       "      <td>65.0</td>\n",
       "      <td>6.737</td>\n",
       "      <td>6.0</td>\n",
       "    </tr>\n",
       "    <tr>\n",
       "      <th>745</th>\n",
       "      <td>Ariebreen</td>\n",
       "      <td>77.027200</td>\n",
       "      <td>15.485400</td>\n",
       "      <td>27.0</td>\n",
       "      <td>0.370</td>\n",
       "      <td>19.0</td>\n",
       "    </tr>\n",
       "    <tr>\n",
       "      <th>833</th>\n",
       "      <td>Austre Lovenbreen</td>\n",
       "      <td>78.871000</td>\n",
       "      <td>12.161400</td>\n",
       "      <td>76.0</td>\n",
       "      <td>4.600</td>\n",
       "      <td>14.0</td>\n",
       "    </tr>\n",
       "  </tbody>\n",
       "</table>\n",
       "<p>110 rows × 6 columns</p>\n",
       "</div>"
      ],
      "text/plain": [
       "                    name        lat         lon  mean_thickness    area  \\\n",
       "32        Easton Glacier  48.750000 -121.830000            58.0   2.900   \n",
       "33   Lemon Creek Glacier  58.380000 -134.360000            66.0  11.700   \n",
       "34          Praviy Aktru  50.061340   87.697410            56.0   5.150   \n",
       "35           Maliy Aktru  50.049670   87.745520            86.0   2.840   \n",
       "36           Leviy Aktru  50.080080   87.690250            90.0   5.950   \n",
       "..                   ...        ...         ...             ...     ...   \n",
       "619          Blekumbreen  78.245480   16.064380            32.0   2.100   \n",
       "627    Tuyuksu (central)  43.043653   77.080587            47.0   2.610   \n",
       "631       Aldegondabreen  77.971400   14.069100            65.0   6.737   \n",
       "745            Ariebreen  77.027200   15.485400            27.0   0.370   \n",
       "833    Austre Lovenbreen  78.871000   12.161400            76.0   4.600   \n",
       "\n",
       "     mean_slope  \n",
       "32          0.0  \n",
       "33          0.0  \n",
       "34          0.0  \n",
       "35          0.0  \n",
       "36          0.0  \n",
       "..          ...  \n",
       "619        13.0  \n",
       "627        20.0  \n",
       "631         6.0  \n",
       "745        19.0  \n",
       "833        14.0  \n",
       "\n",
       "[110 rows x 6 columns]"
      ]
     },
     "execution_count": 27,
     "metadata": {},
     "output_type": "execute_result"
    }
   ],
   "source": [
    "#answer below \n",
    "ds_nonan = ds[['name','lat','lon','mean_thickness','area','mean_slope']]\n",
    "ds_nonan = ds_nonan.dropna()\n",
    "ds_nonan"
   ]
  },
  {
   "cell_type": "markdown",
   "metadata": {},
   "source": [
    "## 2. Mapping glaciers (10 points)\n",
    "\n",
    "Make a global map of the glaciers. Use either of the tools we learned in class:\n",
    "* Geopandas, DEMs from NetCDFfiles (see chapter 2.4)\n",
    "* Pandas and Plotly (see chapter 2.2). You may need to transform some of the series into log-spaced values for better visualization."
   ]
  },
  {
   "cell_type": "markdown",
   "metadata": {},
   "source": [
    "## Option 2: Plotly\n",
    "\n",
    "You may use plotly. For improved visibility, transform some of the data into log-spaced. You may add these transformed Series into the Pandas, and use them as input to plotly."
   ]
  },
  {
   "cell_type": "code",
   "execution_count": 46,
   "metadata": {},
   "outputs": [],
   "source": [
    "import plotly.express as px\n",
    "import plotly.io as pio\n",
    "pio.renderers.default = 'vscode' # writes as standalone html, "
   ]
  },
  {
   "cell_type": "code",
   "execution_count": 47,
   "metadata": {},
   "outputs": [
    {
     "data": {
      "application/vnd.plotly.v1+json": {
       "config": {
        "plotlyServerURL": "https://plot.ly"
       },
       "data": [
        {
         "customdata": [
          [
           "Easton Glacier",
           58,
           2.9,
           0
          ],
          [
           "Lemon Creek Glacier",
           66,
           11.7,
           0
          ],
          [
           "Praviy Aktru",
           56,
           5.15,
           0
          ],
          [
           "Maliy Aktru",
           86,
           2.84,
           0
          ],
          [
           "Leviy Aktru",
           90,
           5.95,
           0
          ],
          [
           "Vodopadniy",
           55,
           0.75,
           0
          ],
          [
           "Batysh Sook Glacier",
           34,
           1.18,
           0
          ],
          [
           "Sary-Tor Glacier",
           53,
           3.61,
           0
          ],
          [
           "Golubin Glacier",
           53,
           5.757,
           0
          ],
          [
           "Davidova Glacier",
           61,
           11.32,
           0
          ],
          [
           "Karabatkak Glacier",
           53,
           4.19,
           0
          ],
          [
           "Tuyuksu (central)",
           104,
           2.72,
           0
          ],
          [
           "Fedchenko Glacier",
           175,
           824,
           0
          ],
          [
           "Abramov Glacier",
           110,
           22.5,
           0
          ],
          [
           "31",
           76,
           3.2,
           0
          ],
          [
           "Kavrayskogo",
           49,
           3.2,
           0
          ],
          [
           "Krasovskogo",
           49,
           3.4,
           0
          ],
          [
           "214",
           52,
           1,
           0
          ],
          [
           "252",
           43,
           2,
           0
          ],
          [
           "Kaskabulakskii",
           52,
           2.8,
           0
          ],
          [
           "259",
           47,
           1.2,
           0
          ],
          [
           "Ajusaiskii",
           45,
           2.2,
           0
          ],
          [
           "183",
           49,
           1.6,
           0
          ],
          [
           "Khejerdala",
           54,
           5.3,
           0
          ],
          [
           "Korjunskii",
           67,
           2.3,
           0
          ],
          [
           "Mgg",
           37,
           2,
           0
          ],
          [
           "Ekspeditsiy",
           39,
           1.5,
           0
          ],
          [
           "Rodina",
           32,
           1.1,
           0
          ],
          [
           "Kartaygan",
           58,
           1.5,
           0
          ],
          [
           "Ashar",
           51,
           1.7,
           0
          ],
          [
           "Maliy Useksiy",
           50,
           2.6,
           0
          ],
          [
           "Denisov",
           47,
           1,
           0
          ],
          [
           "305",
           47,
           1,
           0
          ],
          [
           "59",
           29,
           1,
           0
          ],
          [
           "Karabulaksiy",
           31,
           1.5,
           1
          ],
          [
           "Juytas",
           54,
           2.1,
           0
          ],
          [
           "261",
           49,
           1.1,
           0
          ],
          [
           "Keregetas",
           25,
           1.7,
           0
          ],
          [
           "Bolshoy Koksaysk",
           48,
           2.8,
           0
          ],
          [
           "Kazanskii",
           47,
           3.8,
           0
          ],
          [
           "82",
           45,
           2.9,
           0
          ],
          [
           "93",
           40,
           0.8,
           0
          ],
          [
           "Panfilova",
           49,
           4.2,
           0
          ],
          [
           "Khorgosskiy",
           42,
           2.5,
           0
          ],
          [
           "Tishkan",
           27,
           2.1,
           0
          ],
          [
           "Majak Vostochniy",
           59,
           1.4,
           0
          ],
          [
           "125",
           36,
           1.9,
           0
          ],
          [
           "Majak Zapadniy",
           48,
           0.9,
           0
          ],
          [
           "Sagrir",
           33,
           1.5,
           0
          ],
          [
           "Shumskogo",
           62,
           2.82,
           0
          ],
          [
           "Muravlev",
           61,
           1,
           0
          ],
          [
           "Dokriani Glacier",
           30,
           9.7,
           12
          ],
          [
           "Sperry Glacier",
           26,
           1,
           10
          ],
          [
           "Pizolgletscher",
           15,
           0.08068,
           22
          ],
          [
           "Schneeferner",
           17,
           0.307,
           18
          ],
          [
           "Südlicher Schneeferner",
           5,
           0.084,
           22
          ],
          [
           "Höllentalferner",
           12,
           0.223,
           26
          ],
          [
           "Blaueis",
           4,
           0.106,
           33
          ],
          [
           "Watzmanngletscher",
           6,
           0.101,
           22
          ],
          [
           "Findelengletscher",
           89,
           13.07938,
           13
          ],
          [
           "Glaciar Charquini Sur",
           22,
           0.3097,
           21
          ],
          [
           "Glaciar La Conejeras",
           22,
           0.191,
           26
          ],
          [
           "Glaciar Zongo",
           65,
           1.8841,
           21
          ],
          [
           "Blauschnee",
           8,
           0.0264,
           48
          ],
          [
           "Vadret dal Corvatsch",
           17,
           0.2257,
           22
          ],
          [
           "Gurschenfirn",
           15,
           0.13572,
           27
          ],
          [
           "Vadret dal Murtèl",
           23,
           0.3015,
           15
          ],
          [
           "Muttgletscher",
           26,
           0.36654,
           17
          ],
          [
           "Glacier de Plan Névé",
           19,
           0.5825,
           15
          ],
          [
           "Sardonagletscher",
           13,
           0.39062,
           20
          ],
          [
           "Schwarzwasserfirn",
           8,
           0.05848,
           27
          ],
          [
           "Glatschiu dil Segnas",
           19,
           0.37938,
           17
          ],
          [
           "Glacier du Sex Rouge",
           29,
           0.3017,
           15
          ],
          [
           "Sankt Annafirn",
           16,
           0.2176,
           22
          ],
          [
           "Glacier de Tortin",
           25,
           0.62967,
           16
          ],
          [
           "Glacier de Tsanfleuron",
           69,
           3.2275,
           10
          ],
          [
           "Glacier de Tsarmine",
           15,
           0.2605,
           30
          ],
          [
           "Storbreen",
           90,
           5.36,
           14
          ],
          [
           "Hellstugubreen",
           70,
           2.9,
           13
          ],
          [
           "Vestre Memurubreen",
           128,
           8.6,
           7
          ],
          [
           "Gråsubreen",
           60,
           2.1,
           12
          ],
          [
           "Langfjordjøkelen",
           67,
           3.2,
           13
          ],
          [
           "Rundvassbreen",
           208,
           11.1,
           5
          ],
          [
           "Hardangerjøkulen",
           148,
           71.3,
           6
          ],
          [
           "Marukh",
           97,
           2.76,
           13
          ],
          [
           "Elfenbeinbreen",
           85,
           39.96,
           3
          ],
          [
           "Sveigbreen",
           74,
           28.59,
           3
          ],
          [
           "Urumqi Glacier No. 1",
           44,
           1.59,
           20
          ],
          [
           "West Washmawapta Glacier",
           70,
           1,
           16
          ],
          [
           "Muz Taw",
           23,
           3.078,
           17
          ],
          [
           "Sigonghe 4",
           28,
           2.8,
           20
          ],
          [
           "Urumqi Glacier No. 1",
           46,
           1.69,
           20
          ],
          [
           "Urumqi Glacier No. 1 (east branch)",
           44,
           1.09,
           18
          ],
          [
           "Urumqi Glacier No. 1 (west branch)",
           49,
           0.6,
           23
          ],
          [
           "Sary-Tor Glacier",
           51,
           2.39,
           16
          ],
          [
           "Aqqutikitsoq",
           50,
           2.85,
           12
          ],
          [
           "Shiyi",
           16,
           0.5368,
           24
          ],
          [
           "Haxilegen 51",
           15,
           1.24651,
           20
          ],
          [
           "Heigou 8",
           58,
           6.078,
           25
          ],
          [
           "Shenqi Peak",
           29,
           1.55417,
           10
          ],
          [
           "Qiyi",
           41,
           2.96629,
           21
          ],
          [
           "Ålfotbreen",
           65,
           10.6,
           9
          ],
          [
           "Ålfotbreen",
           57,
           4,
           10
          ],
          [
           "Hansebreen",
           85,
           2.6,
           9
          ],
          [
           "Ålfotbreen (south)",
           68,
           3.28,
           9
          ],
          [
           "Blekumbreen",
           32,
           2.1,
           13
          ],
          [
           "Tuyuksu (central)",
           47,
           2.61,
           20
          ],
          [
           "Aldegondabreen",
           65,
           6.737,
           6
          ],
          [
           "Ariebreen",
           27,
           0.37,
           19
          ],
          [
           "Austre Lovenbreen",
           76,
           4.6,
           14
          ]
         ],
         "geo": "geo",
         "hovertemplate": "<b>%{hovertext}</b><br><br>lat=%{lat}<br>lon=%{lon}<br>name=%{customdata[0]}<br>mean_thickness=%{marker.color}<br>area=%{customdata[2]}<br>mean_slope=%{customdata[3]}<extra></extra>",
         "hovertext": [
          "Easton Glacier",
          "Lemon Creek Glacier",
          "Praviy Aktru",
          "Maliy Aktru",
          "Leviy Aktru",
          "Vodopadniy",
          "Batysh Sook Glacier",
          "Sary-Tor Glacier",
          "Golubin Glacier",
          "Davidova Glacier",
          "Karabatkak Glacier",
          "Tuyuksu (central)",
          "Fedchenko Glacier",
          "Abramov Glacier",
          "31",
          "Kavrayskogo",
          "Krasovskogo",
          "214",
          "252",
          "Kaskabulakskii",
          "259",
          "Ajusaiskii",
          "183",
          "Khejerdala",
          "Korjunskii",
          "Mgg",
          "Ekspeditsiy",
          "Rodina",
          "Kartaygan",
          "Ashar",
          "Maliy Useksiy",
          "Denisov",
          "305",
          "59",
          "Karabulaksiy",
          "Juytas",
          "261",
          "Keregetas",
          "Bolshoy Koksaysk",
          "Kazanskii",
          "82",
          "93",
          "Panfilova",
          "Khorgosskiy",
          "Tishkan",
          "Majak Vostochniy",
          "125",
          "Majak Zapadniy",
          "Sagrir",
          "Shumskogo",
          "Muravlev",
          "Dokriani Glacier",
          "Sperry Glacier",
          "Pizolgletscher",
          "Schneeferner",
          "Südlicher Schneeferner",
          "Höllentalferner",
          "Blaueis",
          "Watzmanngletscher",
          "Findelengletscher",
          "Glaciar Charquini Sur",
          "Glaciar La Conejeras",
          "Glaciar Zongo",
          "Blauschnee",
          "Vadret dal Corvatsch",
          "Gurschenfirn",
          "Vadret dal Murtèl",
          "Muttgletscher",
          "Glacier de Plan Névé",
          "Sardonagletscher",
          "Schwarzwasserfirn",
          "Glatschiu dil Segnas",
          "Glacier du Sex Rouge",
          "Sankt Annafirn",
          "Glacier de Tortin",
          "Glacier de Tsanfleuron",
          "Glacier de Tsarmine",
          "Storbreen",
          "Hellstugubreen",
          "Vestre Memurubreen",
          "Gråsubreen",
          "Langfjordjøkelen",
          "Rundvassbreen",
          "Hardangerjøkulen",
          "Marukh",
          "Elfenbeinbreen",
          "Sveigbreen",
          "Urumqi Glacier No. 1",
          "West Washmawapta Glacier",
          "Muz Taw",
          "Sigonghe 4",
          "Urumqi Glacier No. 1",
          "Urumqi Glacier No. 1 (east branch)",
          "Urumqi Glacier No. 1 (west branch)",
          "Sary-Tor Glacier",
          "Aqqutikitsoq",
          "Shiyi",
          "Haxilegen 51",
          "Heigou 8",
          "Shenqi Peak",
          "Qiyi",
          "Ålfotbreen",
          "Ålfotbreen",
          "Hansebreen",
          "Ålfotbreen (south)",
          "Blekumbreen",
          "Tuyuksu (central)",
          "Aldegondabreen",
          "Ariebreen",
          "Austre Lovenbreen"
         ],
         "lat": [
          48.75,
          58.38,
          50.06134,
          50.04967,
          50.08008,
          50.0503,
          41.78681,
          41.825132,
          42.45448,
          41.8273,
          42.14031,
          43.05,
          38.767,
          39.6097,
          62.58879,
          45.23645,
          45.23513,
          44.92845,
          44.883,
          44.883,
          44.917,
          44.85772,
          44.83929,
          44.97,
          44.89076,
          44.97,
          44.95518,
          44.95315,
          44.99511,
          45,
          44.5841,
          44.5858,
          44.7016,
          44.722,
          44.7049,
          44.685,
          44.679,
          44.6667,
          44.7404,
          44.77608,
          44.77695,
          44.582,
          44.5821,
          44.5846,
          44.6142,
          44.5723,
          44.5804,
          44.56647,
          44.59,
          45.08,
          45.0958,
          30.855,
          48.62495,
          46.9595,
          47.4139,
          47.4,
          47.4231,
          47.571,
          47.5543,
          45.9936,
          -16.3023,
          4.80506,
          -16.266,
          47.25038,
          46.418641,
          46.6049,
          46.408281,
          46.550849,
          46.1666,
          46.916205,
          46.5967,
          46.910684,
          46.327,
          46.600208,
          46.08483,
          46.3202,
          46.048207,
          61.573395,
          61.555861,
          61.541544,
          61.656513,
          70.128,
          67.278,
          60.546,
          43.361887,
          78.1851,
          78.1071,
          43.11124,
          51.177,
          47.065194,
          43.8342,
          43.11124,
          43.11124,
          43.118294,
          41.825132,
          67.094,
          38.214,
          43.731,
          43.784,
          41.78,
          39.237,
          61.75,
          61.75,
          61.75,
          61.73,
          78.24548,
          43.043653,
          77.9714,
          77.0272,
          78.871
         ],
         "legendgroup": "",
         "lon": [
          -121.83,
          -134.36,
          87.69741,
          87.74552,
          87.69025,
          87.7886,
          77.74927,
          78.176022,
          74.49766,
          78.20493,
          78.2728,
          77.08,
          72.283,
          71.56986,
          140.86536,
          80.78166,
          80.80835,
          79.13669,
          79.285,
          79.317,
          79.317,
          79.45203,
          79.46103,
          79.42,
          79.48539,
          79.53,
          79.54601,
          79.56239,
          79.75732,
          79.82,
          79.4753,
          79.498,
          79.5927,
          79.648,
          79.7181,
          79.7254,
          79.7375,
          79.7391,
          79.961,
          79.93852,
          79.82588,
          80.29,
          80.2741,
          80.2417,
          80.1426,
          80.172,
          80.1887,
          80.12033,
          80.1179,
          80.23,
          80.23832,
          78.818,
          -113.75707,
          9.3891,
          10.972,
          10.9736,
          10.9912,
          12.8666,
          12.9282,
          7.87051,
          -68.1064,
          -75.3715,
          -68.148,
          9.34301,
          9.825164,
          8.61212,
          9.825684,
          8.417236,
          6.93715,
          9.255655,
          8.61109,
          9.249232,
          7.21308,
          8.602228,
          7.309231,
          7.22536,
          7.517633,
          8.131989,
          8.441361,
          8.454024,
          8.599633,
          21.735,
          16.037,
          7.432,
          41.419771,
          18.2064,
          17.6978,
          86.810015,
          -116.33,
          85.563635,
          88.3261,
          86.810015,
          86.810015,
          86.80358,
          78.176022,
          -53.213,
          99.881,
          84.391,
          88.356,
          79.894,
          97.755,
          5.67,
          5.64,
          5.67,
          5.66,
          16.06438,
          77.080587,
          14.0691,
          15.4854,
          12.1614
         ],
         "marker": {
          "color": [
           58,
           66,
           56,
           86,
           90,
           55,
           34,
           53,
           53,
           61,
           53,
           104,
           175,
           110,
           76,
           49,
           49,
           52,
           43,
           52,
           47,
           45,
           49,
           54,
           67,
           37,
           39,
           32,
           58,
           51,
           50,
           47,
           47,
           29,
           31,
           54,
           49,
           25,
           48,
           47,
           45,
           40,
           49,
           42,
           27,
           59,
           36,
           48,
           33,
           62,
           61,
           30,
           26,
           15,
           17,
           5,
           12,
           4,
           6,
           89,
           22,
           22,
           65,
           8,
           17,
           15,
           23,
           26,
           19,
           13,
           8,
           19,
           29,
           16,
           25,
           69,
           15,
           90,
           70,
           128,
           60,
           67,
           208,
           148,
           97,
           85,
           74,
           44,
           70,
           23,
           28,
           46,
           44,
           49,
           51,
           50,
           16,
           15,
           58,
           29,
           41,
           65,
           57,
           85,
           68,
           32,
           47,
           65,
           27,
           76
          ],
          "coloraxis": "coloraxis",
          "symbol": "circle"
         },
         "mode": "markers",
         "name": "",
         "showlegend": false,
         "type": "scattergeo"
        }
       ],
       "layout": {
        "coloraxis": {
         "cmax": 208,
         "cmin": 4,
         "colorbar": {
          "title": {
           "text": "mean_thickness"
          }
         },
         "colorscale": [
          [
           0,
           "#0d0887"
          ],
          [
           0.1111111111111111,
           "#46039f"
          ],
          [
           0.2222222222222222,
           "#7201a8"
          ],
          [
           0.3333333333333333,
           "#9c179e"
          ],
          [
           0.4444444444444444,
           "#bd3786"
          ],
          [
           0.5555555555555556,
           "#d8576b"
          ],
          [
           0.6666666666666666,
           "#ed7953"
          ],
          [
           0.7777777777777778,
           "#fb9f3a"
          ],
          [
           0.8888888888888888,
           "#fdca26"
          ],
          [
           1,
           "#f0f921"
          ]
         ]
        },
        "geo": {
         "center": {},
         "domain": {
          "x": [
           0,
           1
          ],
          "y": [
           0,
           1
          ]
         },
         "projection": {
          "rotation": {
           "lat": 13.630090223402814,
           "lon": 57.24979052040325
          },
          "scale": 1.2163007478616608,
          "type": "orthographic"
         },
         "resolution": 110,
         "showcountries": true
        },
        "height": 600,
        "legend": {
         "tracegroupgap": 0
        },
        "margin": {
         "t": 60
        },
        "template": {
         "data": {
          "bar": [
           {
            "error_x": {
             "color": "#2a3f5f"
            },
            "error_y": {
             "color": "#2a3f5f"
            },
            "marker": {
             "line": {
              "color": "#E5ECF6",
              "width": 0.5
             },
             "pattern": {
              "fillmode": "overlay",
              "size": 10,
              "solidity": 0.2
             }
            },
            "type": "bar"
           }
          ],
          "barpolar": [
           {
            "marker": {
             "line": {
              "color": "#E5ECF6",
              "width": 0.5
             },
             "pattern": {
              "fillmode": "overlay",
              "size": 10,
              "solidity": 0.2
             }
            },
            "type": "barpolar"
           }
          ],
          "carpet": [
           {
            "aaxis": {
             "endlinecolor": "#2a3f5f",
             "gridcolor": "white",
             "linecolor": "white",
             "minorgridcolor": "white",
             "startlinecolor": "#2a3f5f"
            },
            "baxis": {
             "endlinecolor": "#2a3f5f",
             "gridcolor": "white",
             "linecolor": "white",
             "minorgridcolor": "white",
             "startlinecolor": "#2a3f5f"
            },
            "type": "carpet"
           }
          ],
          "choropleth": [
           {
            "colorbar": {
             "outlinewidth": 0,
             "ticks": ""
            },
            "type": "choropleth"
           }
          ],
          "contour": [
           {
            "colorbar": {
             "outlinewidth": 0,
             "ticks": ""
            },
            "colorscale": [
             [
              0,
              "#0d0887"
             ],
             [
              0.1111111111111111,
              "#46039f"
             ],
             [
              0.2222222222222222,
              "#7201a8"
             ],
             [
              0.3333333333333333,
              "#9c179e"
             ],
             [
              0.4444444444444444,
              "#bd3786"
             ],
             [
              0.5555555555555556,
              "#d8576b"
             ],
             [
              0.6666666666666666,
              "#ed7953"
             ],
             [
              0.7777777777777778,
              "#fb9f3a"
             ],
             [
              0.8888888888888888,
              "#fdca26"
             ],
             [
              1,
              "#f0f921"
             ]
            ],
            "type": "contour"
           }
          ],
          "contourcarpet": [
           {
            "colorbar": {
             "outlinewidth": 0,
             "ticks": ""
            },
            "type": "contourcarpet"
           }
          ],
          "heatmap": [
           {
            "colorbar": {
             "outlinewidth": 0,
             "ticks": ""
            },
            "colorscale": [
             [
              0,
              "#0d0887"
             ],
             [
              0.1111111111111111,
              "#46039f"
             ],
             [
              0.2222222222222222,
              "#7201a8"
             ],
             [
              0.3333333333333333,
              "#9c179e"
             ],
             [
              0.4444444444444444,
              "#bd3786"
             ],
             [
              0.5555555555555556,
              "#d8576b"
             ],
             [
              0.6666666666666666,
              "#ed7953"
             ],
             [
              0.7777777777777778,
              "#fb9f3a"
             ],
             [
              0.8888888888888888,
              "#fdca26"
             ],
             [
              1,
              "#f0f921"
             ]
            ],
            "type": "heatmap"
           }
          ],
          "heatmapgl": [
           {
            "colorbar": {
             "outlinewidth": 0,
             "ticks": ""
            },
            "colorscale": [
             [
              0,
              "#0d0887"
             ],
             [
              0.1111111111111111,
              "#46039f"
             ],
             [
              0.2222222222222222,
              "#7201a8"
             ],
             [
              0.3333333333333333,
              "#9c179e"
             ],
             [
              0.4444444444444444,
              "#bd3786"
             ],
             [
              0.5555555555555556,
              "#d8576b"
             ],
             [
              0.6666666666666666,
              "#ed7953"
             ],
             [
              0.7777777777777778,
              "#fb9f3a"
             ],
             [
              0.8888888888888888,
              "#fdca26"
             ],
             [
              1,
              "#f0f921"
             ]
            ],
            "type": "heatmapgl"
           }
          ],
          "histogram": [
           {
            "marker": {
             "pattern": {
              "fillmode": "overlay",
              "size": 10,
              "solidity": 0.2
             }
            },
            "type": "histogram"
           }
          ],
          "histogram2d": [
           {
            "colorbar": {
             "outlinewidth": 0,
             "ticks": ""
            },
            "colorscale": [
             [
              0,
              "#0d0887"
             ],
             [
              0.1111111111111111,
              "#46039f"
             ],
             [
              0.2222222222222222,
              "#7201a8"
             ],
             [
              0.3333333333333333,
              "#9c179e"
             ],
             [
              0.4444444444444444,
              "#bd3786"
             ],
             [
              0.5555555555555556,
              "#d8576b"
             ],
             [
              0.6666666666666666,
              "#ed7953"
             ],
             [
              0.7777777777777778,
              "#fb9f3a"
             ],
             [
              0.8888888888888888,
              "#fdca26"
             ],
             [
              1,
              "#f0f921"
             ]
            ],
            "type": "histogram2d"
           }
          ],
          "histogram2dcontour": [
           {
            "colorbar": {
             "outlinewidth": 0,
             "ticks": ""
            },
            "colorscale": [
             [
              0,
              "#0d0887"
             ],
             [
              0.1111111111111111,
              "#46039f"
             ],
             [
              0.2222222222222222,
              "#7201a8"
             ],
             [
              0.3333333333333333,
              "#9c179e"
             ],
             [
              0.4444444444444444,
              "#bd3786"
             ],
             [
              0.5555555555555556,
              "#d8576b"
             ],
             [
              0.6666666666666666,
              "#ed7953"
             ],
             [
              0.7777777777777778,
              "#fb9f3a"
             ],
             [
              0.8888888888888888,
              "#fdca26"
             ],
             [
              1,
              "#f0f921"
             ]
            ],
            "type": "histogram2dcontour"
           }
          ],
          "mesh3d": [
           {
            "colorbar": {
             "outlinewidth": 0,
             "ticks": ""
            },
            "type": "mesh3d"
           }
          ],
          "parcoords": [
           {
            "line": {
             "colorbar": {
              "outlinewidth": 0,
              "ticks": ""
             }
            },
            "type": "parcoords"
           }
          ],
          "pie": [
           {
            "automargin": true,
            "type": "pie"
           }
          ],
          "scatter": [
           {
            "fillpattern": {
             "fillmode": "overlay",
             "size": 10,
             "solidity": 0.2
            },
            "type": "scatter"
           }
          ],
          "scatter3d": [
           {
            "line": {
             "colorbar": {
              "outlinewidth": 0,
              "ticks": ""
             }
            },
            "marker": {
             "colorbar": {
              "outlinewidth": 0,
              "ticks": ""
             }
            },
            "type": "scatter3d"
           }
          ],
          "scattercarpet": [
           {
            "marker": {
             "colorbar": {
              "outlinewidth": 0,
              "ticks": ""
             }
            },
            "type": "scattercarpet"
           }
          ],
          "scattergeo": [
           {
            "marker": {
             "colorbar": {
              "outlinewidth": 0,
              "ticks": ""
             }
            },
            "type": "scattergeo"
           }
          ],
          "scattergl": [
           {
            "marker": {
             "colorbar": {
              "outlinewidth": 0,
              "ticks": ""
             }
            },
            "type": "scattergl"
           }
          ],
          "scattermapbox": [
           {
            "marker": {
             "colorbar": {
              "outlinewidth": 0,
              "ticks": ""
             }
            },
            "type": "scattermapbox"
           }
          ],
          "scatterpolar": [
           {
            "marker": {
             "colorbar": {
              "outlinewidth": 0,
              "ticks": ""
             }
            },
            "type": "scatterpolar"
           }
          ],
          "scatterpolargl": [
           {
            "marker": {
             "colorbar": {
              "outlinewidth": 0,
              "ticks": ""
             }
            },
            "type": "scatterpolargl"
           }
          ],
          "scatterternary": [
           {
            "marker": {
             "colorbar": {
              "outlinewidth": 0,
              "ticks": ""
             }
            },
            "type": "scatterternary"
           }
          ],
          "surface": [
           {
            "colorbar": {
             "outlinewidth": 0,
             "ticks": ""
            },
            "colorscale": [
             [
              0,
              "#0d0887"
             ],
             [
              0.1111111111111111,
              "#46039f"
             ],
             [
              0.2222222222222222,
              "#7201a8"
             ],
             [
              0.3333333333333333,
              "#9c179e"
             ],
             [
              0.4444444444444444,
              "#bd3786"
             ],
             [
              0.5555555555555556,
              "#d8576b"
             ],
             [
              0.6666666666666666,
              "#ed7953"
             ],
             [
              0.7777777777777778,
              "#fb9f3a"
             ],
             [
              0.8888888888888888,
              "#fdca26"
             ],
             [
              1,
              "#f0f921"
             ]
            ],
            "type": "surface"
           }
          ],
          "table": [
           {
            "cells": {
             "fill": {
              "color": "#EBF0F8"
             },
             "line": {
              "color": "white"
             }
            },
            "header": {
             "fill": {
              "color": "#C8D4E3"
             },
             "line": {
              "color": "white"
             }
            },
            "type": "table"
           }
          ]
         },
         "layout": {
          "annotationdefaults": {
           "arrowcolor": "#2a3f5f",
           "arrowhead": 0,
           "arrowwidth": 1
          },
          "autotypenumbers": "strict",
          "coloraxis": {
           "colorbar": {
            "outlinewidth": 0,
            "ticks": ""
           }
          },
          "colorscale": {
           "diverging": [
            [
             0,
             "#8e0152"
            ],
            [
             0.1,
             "#c51b7d"
            ],
            [
             0.2,
             "#de77ae"
            ],
            [
             0.3,
             "#f1b6da"
            ],
            [
             0.4,
             "#fde0ef"
            ],
            [
             0.5,
             "#f7f7f7"
            ],
            [
             0.6,
             "#e6f5d0"
            ],
            [
             0.7,
             "#b8e186"
            ],
            [
             0.8,
             "#7fbc41"
            ],
            [
             0.9,
             "#4d9221"
            ],
            [
             1,
             "#276419"
            ]
           ],
           "sequential": [
            [
             0,
             "#0d0887"
            ],
            [
             0.1111111111111111,
             "#46039f"
            ],
            [
             0.2222222222222222,
             "#7201a8"
            ],
            [
             0.3333333333333333,
             "#9c179e"
            ],
            [
             0.4444444444444444,
             "#bd3786"
            ],
            [
             0.5555555555555556,
             "#d8576b"
            ],
            [
             0.6666666666666666,
             "#ed7953"
            ],
            [
             0.7777777777777778,
             "#fb9f3a"
            ],
            [
             0.8888888888888888,
             "#fdca26"
            ],
            [
             1,
             "#f0f921"
            ]
           ],
           "sequentialminus": [
            [
             0,
             "#0d0887"
            ],
            [
             0.1111111111111111,
             "#46039f"
            ],
            [
             0.2222222222222222,
             "#7201a8"
            ],
            [
             0.3333333333333333,
             "#9c179e"
            ],
            [
             0.4444444444444444,
             "#bd3786"
            ],
            [
             0.5555555555555556,
             "#d8576b"
            ],
            [
             0.6666666666666666,
             "#ed7953"
            ],
            [
             0.7777777777777778,
             "#fb9f3a"
            ],
            [
             0.8888888888888888,
             "#fdca26"
            ],
            [
             1,
             "#f0f921"
            ]
           ]
          },
          "colorway": [
           "#636efa",
           "#EF553B",
           "#00cc96",
           "#ab63fa",
           "#FFA15A",
           "#19d3f3",
           "#FF6692",
           "#B6E880",
           "#FF97FF",
           "#FECB52"
          ],
          "font": {
           "color": "#2a3f5f"
          },
          "geo": {
           "bgcolor": "white",
           "lakecolor": "white",
           "landcolor": "#E5ECF6",
           "showlakes": true,
           "showland": true,
           "subunitcolor": "white"
          },
          "hoverlabel": {
           "align": "left"
          },
          "hovermode": "closest",
          "mapbox": {
           "style": "light"
          },
          "paper_bgcolor": "white",
          "plot_bgcolor": "#E5ECF6",
          "polar": {
           "angularaxis": {
            "gridcolor": "white",
            "linecolor": "white",
            "ticks": ""
           },
           "bgcolor": "#E5ECF6",
           "radialaxis": {
            "gridcolor": "white",
            "linecolor": "white",
            "ticks": ""
           }
          },
          "scene": {
           "xaxis": {
            "backgroundcolor": "#E5ECF6",
            "gridcolor": "white",
            "gridwidth": 2,
            "linecolor": "white",
            "showbackground": true,
            "ticks": "",
            "zerolinecolor": "white"
           },
           "yaxis": {
            "backgroundcolor": "#E5ECF6",
            "gridcolor": "white",
            "gridwidth": 2,
            "linecolor": "white",
            "showbackground": true,
            "ticks": "",
            "zerolinecolor": "white"
           },
           "zaxis": {
            "backgroundcolor": "#E5ECF6",
            "gridcolor": "white",
            "gridwidth": 2,
            "linecolor": "white",
            "showbackground": true,
            "ticks": "",
            "zerolinecolor": "white"
           }
          },
          "shapedefaults": {
           "line": {
            "color": "#2a3f5f"
           }
          },
          "ternary": {
           "aaxis": {
            "gridcolor": "white",
            "linecolor": "white",
            "ticks": ""
           },
           "baxis": {
            "gridcolor": "white",
            "linecolor": "white",
            "ticks": ""
           },
           "bgcolor": "#E5ECF6",
           "caxis": {
            "gridcolor": "white",
            "linecolor": "white",
            "ticks": ""
           }
          },
          "title": {
           "x": 0.05
          },
          "xaxis": {
           "automargin": true,
           "gridcolor": "white",
           "linecolor": "white",
           "ticks": "",
           "title": {
            "standoff": 15
           },
           "zerolinecolor": "white",
           "zerolinewidth": 2
          },
          "yaxis": {
           "automargin": true,
           "gridcolor": "white",
           "linecolor": "white",
           "ticks": "",
           "title": {
            "standoff": 15
           },
           "zerolinecolor": "white",
           "zerolinewidth": 2
          }
         }
        },
        "width": 600
       }
      },
      "image/png": "[encoded data removed]"
     },
     "metadata": {},
     "output_type": "display_data"
    }
   ],
   "source": [
    "# solution\n",
    "fig = px.scatter_geo(ds_nonan,\n",
    "                     lat='lat',lon='lon', \n",
    "                     range_color=(ds_nonan.mean_thickness.min(),ds_nonan.mean_thickness.max()),\n",
    "                     height=600, width=600,\n",
    "                     color='mean_thickness',\n",
    "                     hover_name=\"name\",\n",
    "                     hover_data=['name','mean_thickness','area','mean_slope']); #hover data shows the information when you click on the dots on the map\n",
    "fig.update_geos(resolution=110, showcountries=True,projection_type=\"orthographic\")"
   ]
  },
  {
   "cell_type": "markdown",
   "metadata": {},
   "source": [
    "## 3. Correlations between data parameters ( 5 points total)\n",
    "\n",
    "Make plots to vizualise the correlation, or lack of, between all three data. Make at least three plots.\n",
    "\n",
    "### a) Basic correlations using Matplotlib (2 points)\n",
    "\n",
    "Make 3 plots using matplotlib to visualize slope, mean_thickness, and area. Use logscale to see the correlatons.\n",
    "\n",
    "__Tips__: \n",
    "* Use the function ``scatter`` to plot the values of mean thickness, mean slope, area, and latitude. \n",
    "* use one of the dataframe columns as a color using the argument ``c``. You can also vary the ``colormap`` using the argument ``cmap``. Help on colormaps can be found here: https://matplotlib.org/stable/tutorials/colors/colormaps.html. Be mindful of Color-Vision Deficient readers and read *Crameri, F., Shephard, G.E. and Heron, P.J., 2020. The misuse of colour in science communication. Nature communications, 11(1), pp.1-10. https://doi.org/10.1038/s41467-020-19160-7* (find it on the class Gdrive). You can add a third \"data\" by choosing a marker color that scales with an other parameter. For instance, try coloring your marker with the ``LAT`` parameter to look at systematic latitudinal trends from the equator to the poles.\n",
    "* Do not forget to adjust fontsize, figure size (at least 10,8), grid, labels with units. ou may also explore the *logarithmic* correlations by mapping the axis from linear to logarithmic scale ``plt.xscale('log')``."
   ]
  },
  {
   "cell_type": "code",
   "execution_count": 48,
   "metadata": {},
   "outputs": [
    {
     "data": {
      "text/plain": [
       "Text(0, 0.5, 'Mean thickness')"
      ]
     },
     "execution_count": 48,
     "metadata": {},
     "output_type": "execute_result"
    },
    {
     "data": {
      "image/png": "[encoded data removed]",
      "text/plain": [
       "<Figure size 640x480 with 1 Axes>"
      ]
     },
     "metadata": {},
     "output_type": "display_data"
    }
   ],
   "source": [
    "# Figure 1: Mean slope vs mean thickness\n",
    "# solution\n",
    "plt.scatter(ds_nonan.mean_slope, ds_nonan.mean_thickness)\n",
    "plt.xlabel('Mean slope')\n",
    "plt.ylabel('Mean thickness')"
   ]
  },
  {
   "cell_type": "code",
   "execution_count": 51,
   "metadata": {},
   "outputs": [
    {
     "data": {
      "image/png": "[encoded data removed]",
      "text/plain": [
       "<Figure size 640x480 with 1 Axes>"
      ]
     },
     "metadata": {},
     "output_type": "display_data"
    }
   ],
   "source": [
    "# Figure 2: area vs mean thickness\n",
    "# solution\n",
    "plt.scatter(ds_nonan.area, ds_nonan.mean_thickness)\n",
    "plt.xlabel('Area')\n",
    "plt.ylabel('Mean thickness')\n",
    "plt.xscale('log')"
   ]
  },
  {
   "cell_type": "code",
   "execution_count": 59,
   "metadata": {},
   "outputs": [
    {
     "data": {
      "text/plain": [
       "Text(0, 0.5, 'Slope')"
      ]
     },
     "execution_count": 59,
     "metadata": {},
     "output_type": "execute_result"
    },
    {
     "data": {
      "image/png": "[encoded data removed]",
      "text/plain": [
       "<Figure size 640x480 with 2 Axes>"
      ]
     },
     "metadata": {},
     "output_type": "display_data"
    }
   ],
   "source": [
    "# Figure 3: slope and area\n",
    "plt.title('Slope vs. Area \\n Color=Mean thickness')\n",
    "plt.scatter(ds_nonan.area, ds_nonan.mean_slope,c=ds_nonan.mean_thickness, cmap='Spectral_r')\n",
    "plt.colorbar(label='Mean thickenss (m)')\n",
    "plt.xlabel('Area')\n",
    "plt.xscale('log')\n",
    "plt.ylabel('Slope')"
   ]
  },
  {
   "cell_type": "markdown",
   "metadata": {},
   "source": [
    "### b) 3D Scatter plot using Plotly (1 point)\n",
    "\n",
    "Use the plotly ``scatter_3d`` plot. Make sure to change the pandas series for log scales."
   ]
  },
  {
   "cell_type": "code",
   "execution_count": 61,
   "metadata": {},
   "outputs": [
    {
     "data": {
      "application/vnd.plotly.v1+json": {
       "config": {
        "plotlyServerURL": "https://plot.ly"
       },
       "data": [
        {
         "hovertemplate": "area=%{x}<br>mean_slope=%{y}<br>mean_thickness=%{z}<extra></extra>",
         "legendgroup": "",
         "marker": {
          "color": "#636efa",
          "symbol": "circle"
         },
         "mode": "markers",
         "name": "",
         "scene": "scene",
         "showlegend": false,
         "type": "scatter3d",
         "x": [
          1.0647107369924282,
          2.4595888418037104,
          1.6389967146756448,
          1.0438040521731147,
          1.7833912195575383,
          -0.2876820724517809,
          0.16551443847757333,
          1.2837077723447896,
          1.7504165056936725,
          2.4265710727750367,
          1.4327007339340465,
          1.000631880307906,
          6.714170529909472,
          3.1135153092103742,
          1.1631508098056809,
          1.1631508098056809,
          1.2237754316221157,
          0,
          0.6931471805599453,
          1.0296194171811581,
          0.1823215567939546,
          0.7884573603642703,
          0.47000362924573563,
          1.667706820558076,
          0.8329091229351039,
          0.6931471805599453,
          0.4054651081081644,
          0.09531017980432493,
          0.4054651081081644,
          0.5306282510621704,
          0.9555114450274363,
          0,
          0,
          0,
          0.4054651081081644,
          0.7419373447293773,
          0.09531017980432493,
          0.5306282510621704,
          1.0296194171811581,
          1.33500106673234,
          1.0647107369924282,
          -0.2231435513142097,
          1.4350845252893227,
          0.9162907318741551,
          0.7419373447293773,
          0.3364722366212129,
          0.6418538861723947,
          -0.10536051565782628,
          0.4054651081081644,
          1.0367368849500223,
          0,
          2.272125885509337,
          0,
          -2.517264565896126,
          -1.18090753139494,
          -2.4769384801388235,
          -1.5005835075220182,
          -2.24431618487007,
          -2.2926347621408776,
          2.5710369442939873,
          -1.1721511920029801,
          -1.6554818509355071,
          0.6334502533018179,
          -3.6343912688298667,
          -1.488548595158647,
          -1.9971613390661076,
          -1.198985262814897,
          -1.0036476230924065,
          -0.5404260935422814,
          -0.9400200585733918,
          -2.839070463540614,
          -0.9692169376835602,
          -1.1983221328171216,
          -1.5250967640003494,
          -0.4625594063565027,
          1.1717078437386605,
          -1.3451524177887153,
          1.6789639750827108,
          1.0647107369924282,
          2.151762203259462,
          0.7419373447293773,
          1.1631508098056809,
          2.4069451083182885,
          4.26689632742025,
          1.0152306797290584,
          3.687878953780353,
          3.3530570063342204,
          0.4637340162321402,
          0,
          1.1242800354166875,
          1.0296194171811581,
          0.5247285289349821,
          0.08617769624105241,
          -0.5108256237659907,
          0.8712933659434193,
          1.0473189942805592,
          -0.622129693324665,
          0.22034764641219184,
          1.8046756944946014,
          0.4409416410716422,
          1.0873120137169476,
          2.3608540011180215,
          1.3862943611198906,
          0.9555114450274363,
          1.1878434223960523,
          0.7419373447293773,
          0.959350221334602,
          1.9076147219785229,
          -0.9942522733438669,
          1.5260563034950492
         ],
         "y": [
          0,
          0,
          0,
          0,
          0,
          0,
          0,
          0,
          0,
          0,
          0,
          0,
          0,
          0,
          0,
          0,
          0,
          0,
          0,
          0,
          0,
          0,
          0,
          0,
          0,
          0,
          0,
          0,
          0,
          0,
          0,
          0,
          0,
          0,
          1,
          0,
          0,
          0,
          0,
          0,
          0,
          0,
          0,
          0,
          0,
          0,
          0,
          0,
          0,
          0,
          0,
          12,
          10,
          22,
          18,
          22,
          26,
          33,
          22,
          13,
          21,
          26,
          21,
          48,
          22,
          27,
          15,
          17,
          15,
          20,
          27,
          17,
          15,
          22,
          16,
          10,
          30,
          14,
          13,
          7,
          12,
          13,
          5,
          6,
          13,
          3,
          3,
          20,
          16,
          17,
          20,
          20,
          18,
          23,
          16,
          12,
          24,
          20,
          25,
          10,
          21,
          9,
          10,
          9,
          9,
          13,
          20,
          6,
          19,
          14
         ],
         "z": [
          58,
          66,
          56,
          86,
          90,
          55,
          34,
          53,
          53,
          61,
          53,
          104,
          175,
          110,
          76,
          49,
          49,
          52,
          43,
          52,
          47,
          45,
          49,
          54,
          67,
          37,
          39,
          32,
          58,
          51,
          50,
          47,
          47,
          29,
          31,
          54,
          49,
          25,
          48,
          47,
          45,
          40,
          49,
          42,
          27,
          59,
          36,
          48,
          33,
          62,
          61,
          30,
          26,
          15,
          17,
          5,
          12,
          4,
          6,
          89,
          22,
          22,
          65,
          8,
          17,
          15,
          23,
          26,
          19,
          13,
          8,
          19,
          29,
          16,
          25,
          69,
          15,
          90,
          70,
          128,
          60,
          67,
          208,
          148,
          97,
          85,
          74,
          44,
          70,
          23,
          28,
          46,
          44,
          49,
          51,
          50,
          16,
          15,
          58,
          29,
          41,
          65,
          57,
          85,
          68,
          32,
          47,
          65,
          27,
          76
         ]
        }
       ],
       "layout": {
        "autosize": true,
        "legend": {
         "tracegroupgap": 0
        },
        "margin": {
         "t": 60
        },
        "scene": {
         "aspectmode": "auto",
         "aspectratio": {
          "x": 1,
          "y": 1,
          "z": 1
         },
         "camera": {
          "center": {
           "x": 0,
           "y": 0,
           "z": 0
          },
          "eye": {
           "x": -0.7476927820833325,
           "y": -3.132331556141808,
           "z": 0.08162443718350737
          },
          "projection": {
           "type": "perspective"
          },
          "up": {
           "x": 0,
           "y": 0,
           "z": 1
          }
         },
         "domain": {
          "x": [
           0,
           1
          ],
          "y": [
           0,
           1
          ]
         },
         "xaxis": {
          "title": {
           "text": "area"
          },
          "type": "linear"
         },
         "yaxis": {
          "title": {
           "text": "mean_slope"
          },
          "type": "linear"
         },
         "zaxis": {
          "title": {
           "text": "mean_thickness"
          },
          "type": "linear"
         }
        },
        "template": {
         "data": {
          "bar": [
           {
            "error_x": {
             "color": "#2a3f5f"
            },
            "error_y": {
             "color": "#2a3f5f"
            },
            "marker": {
             "line": {
              "color": "#E5ECF6",
              "width": 0.5
             },
             "pattern": {
              "fillmode": "overlay",
              "size": 10,
              "solidity": 0.2
             }
            },
            "type": "bar"
           }
          ],
          "barpolar": [
           {
            "marker": {
             "line": {
              "color": "#E5ECF6",
              "width": 0.5
             },
             "pattern": {
              "fillmode": "overlay",
              "size": 10,
              "solidity": 0.2
             }
            },
            "type": "barpolar"
           }
          ],
          "carpet": [
           {
            "aaxis": {
             "endlinecolor": "#2a3f5f",
             "gridcolor": "white",
             "linecolor": "white",
             "minorgridcolor": "white",
             "startlinecolor": "#2a3f5f"
            },
            "baxis": {
             "endlinecolor": "#2a3f5f",
             "gridcolor": "white",
             "linecolor": "white",
             "minorgridcolor": "white",
             "startlinecolor": "#2a3f5f"
            },
            "type": "carpet"
           }
          ],
          "choropleth": [
           {
            "colorbar": {
             "outlinewidth": 0,
             "ticks": ""
            },
            "type": "choropleth"
           }
          ],
          "contour": [
           {
            "colorbar": {
             "outlinewidth": 0,
             "ticks": ""
            },
            "colorscale": [
             [
              0,
              "#0d0887"
             ],
             [
              0.1111111111111111,
              "#46039f"
             ],
             [
              0.2222222222222222,
              "#7201a8"
             ],
             [
              0.3333333333333333,
              "#9c179e"
             ],
             [
              0.4444444444444444,
              "#bd3786"
             ],
             [
              0.5555555555555556,
              "#d8576b"
             ],
             [
              0.6666666666666666,
              "#ed7953"
             ],
             [
              0.7777777777777778,
              "#fb9f3a"
             ],
             [
              0.8888888888888888,
              "#fdca26"
             ],
             [
              1,
              "#f0f921"
             ]
            ],
            "type": "contour"
           }
          ],
          "contourcarpet": [
           {
            "colorbar": {
             "outlinewidth": 0,
             "ticks": ""
            },
            "type": "contourcarpet"
           }
          ],
          "heatmap": [
           {
            "colorbar": {
             "outlinewidth": 0,
             "ticks": ""
            },
            "colorscale": [
             [
              0,
              "#0d0887"
             ],
             [
              0.1111111111111111,
              "#46039f"
             ],
             [
              0.2222222222222222,
              "#7201a8"
             ],
             [
              0.3333333333333333,
              "#9c179e"
             ],
             [
              0.4444444444444444,
              "#bd3786"
             ],
             [
              0.5555555555555556,
              "#d8576b"
             ],
             [
              0.6666666666666666,
              "#ed7953"
             ],
             [
              0.7777777777777778,
              "#fb9f3a"
             ],
             [
              0.8888888888888888,
              "#fdca26"
             ],
             [
              1,
              "#f0f921"
             ]
            ],
            "type": "heatmap"
           }
          ],
          "heatmapgl": [
           {
            "colorbar": {
             "outlinewidth": 0,
             "ticks": ""
            },
            "colorscale": [
             [
              0,
              "#0d0887"
             ],
             [
              0.1111111111111111,
              "#46039f"
             ],
             [
              0.2222222222222222,
              "#7201a8"
             ],
             [
              0.3333333333333333,
              "#9c179e"
             ],
             [
              0.4444444444444444,
              "#bd3786"
             ],
             [
              0.5555555555555556,
              "#d8576b"
             ],
             [
              0.6666666666666666,
              "#ed7953"
             ],
             [
              0.7777777777777778,
              "#fb9f3a"
             ],
             [
              0.8888888888888888,
              "#fdca26"
             ],
             [
              1,
              "#f0f921"
             ]
            ],
            "type": "heatmapgl"
           }
          ],
          "histogram": [
           {
            "marker": {
             "pattern": {
              "fillmode": "overlay",
              "size": 10,
              "solidity": 0.2
             }
            },
            "type": "histogram"
           }
          ],
          "histogram2d": [
           {
            "colorbar": {
             "outlinewidth": 0,
             "ticks": ""
            },
            "colorscale": [
             [
              0,
              "#0d0887"
             ],
             [
              0.1111111111111111,
              "#46039f"
             ],
             [
              0.2222222222222222,
              "#7201a8"
             ],
             [
              0.3333333333333333,
              "#9c179e"
             ],
             [
              0.4444444444444444,
              "#bd3786"
             ],
             [
              0.5555555555555556,
              "#d8576b"
             ],
             [
              0.6666666666666666,
              "#ed7953"
             ],
             [
              0.7777777777777778,
              "#fb9f3a"
             ],
             [
              0.8888888888888888,
              "#fdca26"
             ],
             [
              1,
              "#f0f921"
             ]
            ],
            "type": "histogram2d"
           }
          ],
          "histogram2dcontour": [
           {
            "colorbar": {
             "outlinewidth": 0,
             "ticks": ""
            },
            "colorscale": [
             [
              0,
              "#0d0887"
             ],
             [
              0.1111111111111111,
              "#46039f"
             ],
             [
              0.2222222222222222,
              "#7201a8"
             ],
             [
              0.3333333333333333,
              "#9c179e"
             ],
             [
              0.4444444444444444,
              "#bd3786"
             ],
             [
              0.5555555555555556,
              "#d8576b"
             ],
             [
              0.6666666666666666,
              "#ed7953"
             ],
             [
              0.7777777777777778,
              "#fb9f3a"
             ],
             [
              0.8888888888888888,
              "#fdca26"
             ],
             [
              1,
              "#f0f921"
             ]
            ],
            "type": "histogram2dcontour"
           }
          ],
          "mesh3d": [
           {
            "colorbar": {
             "outlinewidth": 0,
             "ticks": ""
            },
            "type": "mesh3d"
           }
          ],
          "parcoords": [
           {
            "line": {
             "colorbar": {
              "outlinewidth": 0,
              "ticks": ""
             }
            },
            "type": "parcoords"
           }
          ],
          "pie": [
           {
            "automargin": true,
            "type": "pie"
           }
          ],
          "scatter": [
           {
            "fillpattern": {
             "fillmode": "overlay",
             "size": 10,
             "solidity": 0.2
            },
            "type": "scatter"
           }
          ],
          "scatter3d": [
           {
            "line": {
             "colorbar": {
              "outlinewidth": 0,
              "ticks": ""
             }
            },
            "marker": {
             "colorbar": {
              "outlinewidth": 0,
              "ticks": ""
             }
            },
            "type": "scatter3d"
           }
          ],
          "scattercarpet": [
           {
            "marker": {
             "colorbar": {
              "outlinewidth": 0,
              "ticks": ""
             }
            },
            "type": "scattercarpet"
           }
          ],
          "scattergeo": [
           {
            "marker": {
             "colorbar": {
              "outlinewidth": 0,
              "ticks": ""
             }
            },
            "type": "scattergeo"
           }
          ],
          "scattergl": [
           {
            "marker": {
             "colorbar": {
              "outlinewidth": 0,
              "ticks": ""
             }
            },
            "type": "scattergl"
           }
          ],
          "scattermapbox": [
           {
            "marker": {
             "colorbar": {
              "outlinewidth": 0,
              "ticks": ""
             }
            },
            "type": "scattermapbox"
           }
          ],
          "scatterpolar": [
           {
            "marker": {
             "colorbar": {
              "outlinewidth": 0,
              "ticks": ""
             }
            },
            "type": "scatterpolar"
           }
          ],
          "scatterpolargl": [
           {
            "marker": {
             "colorbar": {
              "outlinewidth": 0,
              "ticks": ""
             }
            },
            "type": "scatterpolargl"
           }
          ],
          "scatterternary": [
           {
            "marker": {
             "colorbar": {
              "outlinewidth": 0,
              "ticks": ""
             }
            },
            "type": "scatterternary"
           }
          ],
          "surface": [
           {
            "colorbar": {
             "outlinewidth": 0,
             "ticks": ""
            },
            "colorscale": [
             [
              0,
              "#0d0887"
             ],
             [
              0.1111111111111111,
              "#46039f"
             ],
             [
              0.2222222222222222,
              "#7201a8"
             ],
             [
              0.3333333333333333,
              "#9c179e"
             ],
             [
              0.4444444444444444,
              "#bd3786"
             ],
             [
              0.5555555555555556,
              "#d8576b"
             ],
             [
              0.6666666666666666,
              "#ed7953"
             ],
             [
              0.7777777777777778,
              "#fb9f3a"
             ],
             [
              0.8888888888888888,
              "#fdca26"
             ],
             [
              1,
              "#f0f921"
             ]
            ],
            "type": "surface"
           }
          ],
          "table": [
           {
            "cells": {
             "fill": {
              "color": "#EBF0F8"
             },
             "line": {
              "color": "white"
             }
            },
            "header": {
             "fill": {
              "color": "#C8D4E3"
             },
             "line": {
              "color": "white"
             }
            },
            "type": "table"
           }
          ]
         },
         "layout": {
          "annotationdefaults": {
           "arrowcolor": "#2a3f5f",
           "arrowhead": 0,
           "arrowwidth": 1
          },
          "autotypenumbers": "strict",
          "coloraxis": {
           "colorbar": {
            "outlinewidth": 0,
            "ticks": ""
           }
          },
          "colorscale": {
           "diverging": [
            [
             0,
             "#8e0152"
            ],
            [
             0.1,
             "#c51b7d"
            ],
            [
             0.2,
             "#de77ae"
            ],
            [
             0.3,
             "#f1b6da"
            ],
            [
             0.4,
             "#fde0ef"
            ],
            [
             0.5,
             "#f7f7f7"
            ],
            [
             0.6,
             "#e6f5d0"
            ],
            [
             0.7,
             "#b8e186"
            ],
            [
             0.8,
             "#7fbc41"
            ],
            [
             0.9,
             "#4d9221"
            ],
            [
             1,
             "#276419"
            ]
           ],
           "sequential": [
            [
             0,
             "#0d0887"
            ],
            [
             0.1111111111111111,
             "#46039f"
            ],
            [
             0.2222222222222222,
             "#7201a8"
            ],
            [
             0.3333333333333333,
             "#9c179e"
            ],
            [
             0.4444444444444444,
             "#bd3786"
            ],
            [
             0.5555555555555556,
             "#d8576b"
            ],
            [
             0.6666666666666666,
             "#ed7953"
            ],
            [
             0.7777777777777778,
             "#fb9f3a"
            ],
            [
             0.8888888888888888,
             "#fdca26"
            ],
            [
             1,
             "#f0f921"
            ]
           ],
           "sequentialminus": [
            [
             0,
             "#0d0887"
            ],
            [
             0.1111111111111111,
             "#46039f"
            ],
            [
             0.2222222222222222,
             "#7201a8"
            ],
            [
             0.3333333333333333,
             "#9c179e"
            ],
            [
             0.4444444444444444,
             "#bd3786"
            ],
            [
             0.5555555555555556,
             "#d8576b"
            ],
            [
             0.6666666666666666,
             "#ed7953"
            ],
            [
             0.7777777777777778,
             "#fb9f3a"
            ],
            [
             0.8888888888888888,
             "#fdca26"
            ],
            [
             1,
             "#f0f921"
            ]
           ]
          },
          "colorway": [
           "#636efa",
           "#EF553B",
           "#00cc96",
           "#ab63fa",
           "#FFA15A",
           "#19d3f3",
           "#FF6692",
           "#B6E880",
           "#FF97FF",
           "#FECB52"
          ],
          "font": {
           "color": "#2a3f5f"
          },
          "geo": {
           "bgcolor": "white",
           "lakecolor": "white",
           "landcolor": "#E5ECF6",
           "showlakes": true,
           "showland": true,
           "subunitcolor": "white"
          },
          "hoverlabel": {
           "align": "left"
          },
          "hovermode": "closest",
          "mapbox": {
           "style": "light"
          },
          "paper_bgcolor": "white",
          "plot_bgcolor": "#E5ECF6",
          "polar": {
           "angularaxis": {
            "gridcolor": "white",
            "linecolor": "white",
            "ticks": ""
           },
           "bgcolor": "#E5ECF6",
           "radialaxis": {
            "gridcolor": "white",
            "linecolor": "white",
            "ticks": ""
           }
          },
          "scene": {
           "xaxis": {
            "backgroundcolor": "#E5ECF6",
            "gridcolor": "white",
            "gridwidth": 2,
            "linecolor": "white",
            "showbackground": true,
            "ticks": "",
            "zerolinecolor": "white"
           },
           "yaxis": {
            "backgroundcolor": "#E5ECF6",
            "gridcolor": "white",
            "gridwidth": 2,
            "linecolor": "white",
            "showbackground": true,
            "ticks": "",
            "zerolinecolor": "white"
           },
           "zaxis": {
            "backgroundcolor": "#E5ECF6",
            "gridcolor": "white",
            "gridwidth": 2,
            "linecolor": "white",
            "showbackground": true,
            "ticks": "",
            "zerolinecolor": "white"
           }
          },
          "shapedefaults": {
           "line": {
            "color": "#2a3f5f"
           }
          },
          "ternary": {
           "aaxis": {
            "gridcolor": "white",
            "linecolor": "white",
            "ticks": ""
           },
           "baxis": {
            "gridcolor": "white",
            "linecolor": "white",
            "ticks": ""
           },
           "bgcolor": "#E5ECF6",
           "caxis": {
            "gridcolor": "white",
            "linecolor": "white",
            "ticks": ""
           }
          },
          "title": {
           "x": 0.05
          },
          "xaxis": {
           "automargin": true,
           "gridcolor": "white",
           "linecolor": "white",
           "ticks": "",
           "title": {
            "standoff": 15
           },
           "zerolinecolor": "white",
           "zerolinewidth": 2
          },
          "yaxis": {
           "automargin": true,
           "gridcolor": "white",
           "linecolor": "white",
           "ticks": "",
           "title": {
            "standoff": 15
           },
           "zerolinecolor": "white",
           "zerolinewidth": 2
          }
         }
        }
       }
      },
      "image/png": "[encoded data removed]"
     },
     "metadata": {},
     "output_type": "display_data"
    }
   ],
   "source": [
    "# solution\n",
    "ds_nonan_log = ds_nonan.copy()\n",
    "ds_nonan_log['area'] = np.log(ds_nonan.area)\n",
    "px.scatter_3d(data_frame=ds_nonan_log, x='area',y='mean_slope',z='mean_thickness')"
   ]
  },
  {
   "cell_type": "markdown",
   "metadata": {},
   "source": [
    "### c) Pandas Correlation function (1 point)\n",
    "\n",
    "You may use Pandas functionalities to explore correlation between data. Use the function ``corr`` on the dataframe and the matplotlib function ``matshow`` to plot a heatmap of the correlations"
   ]
  },
  {
   "cell_type": "code",
   "execution_count": 75,
   "metadata": {},
   "outputs": [
    {
     "data": {
      "text/plain": [
       "([<matplotlib.axis.YTick at 0x7faefad399d0>,\n",
       "  <matplotlib.axis.YTick at 0x7faefad39370>,\n",
       "  <matplotlib.axis.YTick at 0x7faefad2c460>],\n",
       " [Text(0, 0, 'log(Area)'), Text(0, 1, 'Slope'), Text(0, 2, 'Thickness')])"
      ]
     },
     "execution_count": 75,
     "metadata": {},
     "output_type": "execute_result"
    },
    {
     "data": {
      "image/png": "[encoded data removed]",
      "text/plain": [
       "<Figure size 480x480 with 2 Axes>"
      ]
     },
     "metadata": {},
     "output_type": "display_data"
    }
   ],
   "source": [
    "#solution\n",
    "important_data = ds_nonan_log[['area','mean_slope','mean_thickness']]\n",
    "plt.matshow(important_data.corr(), cmap='bwr',vmin=-1,vmax=1)\n",
    "plt.colorbar()\n",
    "plt.xticks(np.arange(0,3),('log(Area)','Slope','Thickness'))\n",
    "plt.yticks(np.arange(0,3),('log(Area)','Slope','Thickness'))"
   ]
  },
  {
   "cell_type": "markdown",
   "metadata": {},
   "source": [
    "### f) Seaborn Plotting (1 point)\n",
    "\n",
    "Seaborn is a great python package for basic data anlytics. See documentation [here](!https://seaborn.pydata.org/)."
   ]
  },
  {
   "cell_type": "code",
   "execution_count": 76,
   "metadata": {},
   "outputs": [
    {
     "data": {
      "text/plain": [
       "<AxesSubplot: >"
      ]
     },
     "execution_count": 76,
     "metadata": {},
     "output_type": "execute_result"
    },
    {
     "data": {
      "image/png": "[encoded data removed]",
      "text/plain": [
       "<Figure size 640x480 with 2 Axes>"
      ]
     },
     "metadata": {},
     "output_type": "display_data"
    }
   ],
   "source": [
    "# solution\n",
    "import seaborn as sns\n",
    "sns.heatmap(important_data.corr(), cmap='bwr',vmin=-1,vmax=1)"
   ]
  },
  {
   "cell_type": "markdown",
   "metadata": {},
   "source": [
    "Discuss the basic correlations among the data. Do these correction make sense when you think about the shapes of glaciers?"
   ]
  },
  {
   "cell_type": "markdown",
   "metadata": {},
   "source": [
    "It makes sense to me that the mean thickness is positvely correlated with log(area), suggesting that larger glacier tends to be thicker. \n",
    "It also makes sense that the mean thickness is negatively correlated with slope, suggesting that a steep glacier tends to be thinner than a flat glacier. "
   ]
  },
  {
   "cell_type": "markdown",
   "metadata": {},
   "source": [
    "## 4. Linear Regression (10 points total counted in the next section)\n",
    "You found from basic data visualization that the three parameters ``mean_slope``, ``mean_thickness``, and ``area`` are correlated. It does make physical sense because a *steep* glaciers is likely to be in the high mountains regions, hanging on the mountain walls, and thus be constrained, and conversely, a flat glacier is either at its valley, ocean terminus or on ice sheets.\n",
    "\n",
    "### a) Simple linear regression (2 points)\n",
    "We will now perform a regression between the parameters (or their log!). Linear regressions are models that can be imported from scikit-learn. Log/exp functions in numpy as ``np.log()`` and ``np.exp()``.\n",
    "Remember that a linear regression is finding $a$ and $b$ knowing both $x$ and the data $y$ in $y = Ax +b$. We want to predict ice thickness from a crude estimate of the glacier area.\n",
    "\n",
    "__Tips__: \n",
    "a. make sure that the dimensions are correct and that there is no NaNs and zeros.\n",
    "b. Make sure to inport the scikit learn linear regression function and the error metrics."
   ]
  },
  {
   "cell_type": "code",
   "execution_count": 85,
   "metadata": {},
   "outputs": [
    {
     "name": "stdout",
     "output_type": "stream",
     "text": [
      "(110, 1)\n",
      "(110, 1)\n"
     ]
    }
   ],
   "source": [
    "# solution\n",
    "from sklearn.linear_model import LinearRegression\n",
    "from sklearn.metrics import mean_squared_error, r2_score\n",
    "\n",
    "x = important_data.area.to_numpy().reshape(-1,1)\n",
    "print(x.shape)\n",
    "y = important_data.mean_thickness.to_numpy().reshape(-1,1)\n",
    "print(y.shape)\n",
    "LR_model = LinearRegression()\n",
    "LR_fit  = LR_model.fit(x,y)\n",
    "a = LR_fit.coef_\n",
    "b = LR_fit.intercept_\n",
    "R2 = LR_model.score(x,y)\n",
    "ypred = a*x+b"
   ]
  },
  {
   "cell_type": "markdown",
   "metadata": {},
   "source": [
    "Make a plot of the data and the linear regression your performed"
   ]
  },
  {
   "cell_type": "code",
   "execution_count": 87,
   "metadata": {},
   "outputs": [
    {
     "data": {
      "text/plain": [
       "<matplotlib.legend.Legend at 0x7faef9bb7100>"
      ]
     },
     "execution_count": 87,
     "metadata": {},
     "output_type": "execute_result"
    },
    {
     "data": {
      "image/png": "[encoded data removed]",
      "text/plain": [
       "<Figure size 640x480 with 1 Axes>"
      ]
     },
     "metadata": {},
     "output_type": "display_data"
    }
   ],
   "source": [
    "# solution\n",
    "R2_str = \"%.2f\" %R2\n",
    "plt.plot(x,y,'bo')\n",
    "plt.plot(x,ypred,'k')\n",
    "plt.xlabel('log (area)')\n",
    "plt.ylabel('Thickness (m)')\n",
    "plt.legend(['raw data','linear regression, R^2='+R2_str])"
   ]
  },
  {
   "cell_type": "markdown",
   "metadata": {},
   "source": [
    "**Briefly comment on the quality of your fit and a linear regression (1 point)**"
   ]
  },
  {
   "cell_type": "raw",
   "metadata": {},
   "source": [
    "The fit looks pretty good, except that there are outliers on the extreme low and high values of mean area.\n",
    "The linear regression can expalined over 60% of the total regression."
   ]
  },
  {
   "cell_type": "markdown",
   "metadata": {},
   "source": [
    "### b) Leave One Out Cross Validation linear regression (1 point)\n",
    "\n",
    "\n",
    "Perform the LOCCV on the ``area`` and ``thickness`` values. Predict the ``thickness`` value knowing a ``area`` value. Use material seen in class. Make a plot of your fit."
   ]
  },
  {
   "cell_type": "code",
   "execution_count": 96,
   "metadata": {},
   "outputs": [
    {
     "name": "stdout",
     "output_type": "stream",
     "text": [
      "a: 16.664982683005483 ; a-LOCCV: 16.664333102724527\n",
      "b: 41.029329187759885 ; b-LOCCV: 41.028834620157156\n"
     ]
    },
    {
     "data": {
      "text/plain": [
       "Text(0.5, 1.0, 'Leave one out cross validation')"
      ]
     },
     "execution_count": 96,
     "metadata": {},
     "output_type": "execute_result"
    },
    {
     "data": {
      "image/png": "[encoded data removed]",
      "text/plain": [
       "<Figure size 640x480 with 1 Axes>"
      ]
     },
     "metadata": {},
     "output_type": "display_data"
    }
   ],
   "source": [
    "from sklearn.model_selection import LeaveOneOut\n",
    "# solution\n",
    "loo = LeaveOneOut()\n",
    "area  = important_data.area.to_numpy().reshape(-1,1)\n",
    "thick = important_data.mean_thickness.to_numpy().reshape(-1,1)\n",
    "\n",
    "# initialize variables of interest\n",
    "a_loccv = np.zeros(len(area))\n",
    "b_loccv = np.zeros(len(area))\n",
    "i = 0\n",
    "for train_index, test_index in loo.split(area):\n",
    "    area_train, area_val = area[train_index], area[test_index]\n",
    "    thick_train, thick_val = thick[train_index], thick[test_index]\n",
    "    \n",
    "    # fit data on the training set\n",
    "    regr = LinearRegression()\n",
    "    regr.fit(area_train, thick_train)\n",
    "    \n",
    "    # coefficients\n",
    "    a_loccv[i] = regr.coef_[0][0]\n",
    "    b_loccv[i] = regr.intercept_[0]\n",
    "    i = i + 1\n",
    "\n",
    "# Calculate the mean\n",
    "mean_a_loccv = np.mean(a_loccv)\n",
    "mean_b_loccv = np.mean(b_loccv)\n",
    "ypred_loccv = mean_a_loccv*x + mean_b_loccv\n",
    "print('a:',a.squeeze(),'; a-LOCCV:',mean_a_loccv)\n",
    "print('b:',b.squeeze(),'; b-LOCCV:',mean_b_loccv)\n",
    "\n",
    "plt.plot(x,y,'bo')\n",
    "plt.plot(x,ypred_loccv,'k')\n",
    "plt.xlabel('log (area)')\n",
    "plt.ylabel('Thickness (m)')\n",
    "plt.legend(['raw data','linear regression'])\n",
    "plt.title('Leave one out cross validation')"
   ]
  },
  {
   "cell_type": "markdown",
   "metadata": {},
   "source": [
    "### c) Bootstrapping (1 point)\n",
    "\n",
    "Perform the same analysis but using a bootstrapping technique. Output the mean and standard deviation of the slope. An illustration with a histogram  may help."
   ]
  },
  {
   "cell_type": "code",
   "execution_count": 98,
   "metadata": {},
   "outputs": [
    {
     "name": "stdout",
     "output_type": "stream",
     "text": [
      "Mean of the bootstrap slope:  16.462280688193708\n",
      "Std of the bootstrap slope:  1.646747292783818\n"
     ]
    },
    {
     "data": {
      "text/plain": [
       "Text(0, 0.5, 'Frequency')"
      ]
     },
     "execution_count": 98,
     "metadata": {},
     "output_type": "execute_result"
    },
    {
     "data": {
      "image/png": "[encoded data removed]",
      "text/plain": [
       "<Figure size 640x480 with 1 Axes>"
      ]
     },
     "metadata": {},
     "output_type": "display_data"
    }
   ],
   "source": [
    "from sklearn.utils import resample\n",
    "# solution\n",
    "\n",
    "k=100\n",
    "\n",
    "a_bootstrap = np.zeros(k)\n",
    "\n",
    "i = 0\n",
    "for iik in range(k):\n",
    "    ii = resample(np.arange(len(area)), replace=True, n_samples=len(area))\n",
    "    thick_b, area_b = thick[ii], area[ii] \n",
    "    \n",
    "    # fit the data on training data\n",
    "    regr = LinearRegression()\n",
    "    regr.fit(area_b, thick_b)\n",
    "    \n",
    "    # coefficients\n",
    "    a_bootstrap[i] = regr.coef_[0][0]\n",
    "    i = i + 1\n",
    "print('Mean of the bootstrap slope: ', np.nanmean(a_bootstrap))\n",
    "print('Std of the bootstrap slope: ', np.nanstd(a_bootstrap))\n",
    "\n",
    "plt.hist(a_bootstrap, 50)\n",
    "plt.title('Distribution of regression slope from Bootstrap')\n",
    "plt.xlabel('Regression slope a')\n",
    "plt.ylabel('Frequency')"
   ]
  },
  {
   "cell_type": "markdown",
   "metadata": {},
   "source": [
    "### d) Predict the thickness of a glacier (2 points)\n",
    "\n",
    "Let assume that you measure a glacier of area 10 km$^2$. Can you use your bootstrap regression framework to provide a distribution of possible values of the ice thickness ? Output the mean and standard deviation of the predicted ice thickness."
   ]
  },
  {
   "cell_type": "code",
   "execution_count": 107,
   "metadata": {},
   "outputs": [],
   "source": [
    "# solution\n",
    "k=100\n",
    "x_example = np.log(10).reshape(-1,1)\n",
    "\n",
    "ypred_bootstrap = np.zeros(k)\n",
    "i = 0\n",
    "for iik in range(k):\n",
    "    ii = resample(np.arange(len(area)), replace=True, n_samples=len(area))\n",
    "    thick_b, area_b = thick[ii], area[ii] \n",
    "    \n",
    "    # fit the data on training data\n",
    "    regr = LinearRegression()\n",
    "    regr.fit(area_b, thick_b)\n",
    "    \n",
    "    # coefficients\n",
    "    ypred_bootstrap[i] = regr.predict(x_example)\n",
    "    i = i + 1\n",
    "\n",
    "y_pred_bootstrap_mean = np.nanmean(ypred_bootstrap)\n",
    "y_pred_bootstrap_std = np.nanstd(ypred_bootstrap)"
   ]
  },
  {
   "cell_type": "code",
   "execution_count": 108,
   "metadata": {},
   "outputs": [
    {
     "name": "stdout",
     "output_type": "stream",
     "text": [
      "Mean of predicted ice thickness:  78.77517254652055 m\n",
      "Std of predicted ice thickness:  3.8505551149809367 m\n"
     ]
    },
    {
     "data": {
      "text/plain": [
       "Text(0, 0.5, 'Frequency')"
      ]
     },
     "execution_count": 108,
     "metadata": {},
     "output_type": "execute_result"
    },
    {
     "data": {
      "image/png": "[encoded data removed]",
      "text/plain": [
       "<Figure size 640x480 with 1 Axes>"
      ]
     },
     "metadata": {},
     "output_type": "display_data"
    }
   ],
   "source": [
    "print('Mean of predicted ice thickness: ',y_pred_bootstrap_mean, 'm')\n",
    "print('Std of predicted ice thickness: ',y_pred_bootstrap_std, 'm')\n",
    "\n",
    "plt.hist(ypred_bootstrap, 50)\n",
    "plt.title('Distribution of predicted thickness from Bootstrap')\n",
    "plt.xlabel('Thickness (m)')\n",
    "plt.ylabel('Frequency')"
   ]
  },
  {
   "cell_type": "code",
   "execution_count": null,
   "metadata": {},
   "outputs": [],
   "source": []
  }
 ],
 "metadata": {
  "kernelspec": {
   "display_name": "Python 3 (ipykernel)",
   "language": "python",
   "name": "python3"
  },
  "language_info": {
   "codemirror_mode": {
    "name": "ipython",
    "version": 3
   },
   "file_extension": ".py",
   "mimetype": "text/x-python",
   "name": "python",
   "nbconvert_exporter": "python",
   "pygments_lexer": "ipython3",
   "version": "3.8.14"
  },
  "vscode": {
   "interpreter": {
    "hash": "a6825af05e3ea1f79f5651bdd3095330bdaee3a1e3958825bcb0ebbb42c21bf2"
   }
  }
 },
 "nbformat": 4,
 "nbformat_minor": 4
}
