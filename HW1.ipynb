{
 "cells": [
  {
   "cell_type": "code",
   "execution_count": null,
   "id": "8ae436bd-8e5e-4a4f-94cb-c92787e0ff55",
   "metadata": {},
   "outputs": [],
   "source": [
    "##################\n",
    "# hw1: import module, list, numpy, function, matplotlib\n",
    "# 2022.10.12\n",
    "##################"
   ]
  },
  {
   "cell_type": "code",
   "execution_count": 2,
   "id": "693e1f3c-302f-4977-99e7-1f1fc9630b67",
   "metadata": {},
   "outputs": [],
   "source": [
    "import numpy as np\n",
    "%matplotlib inline \n",
    "import matplotlib.pyplot as plt"
   ]
  },
  {
   "cell_type": "code",
   "execution_count": 4,
   "id": "7c0bcfc7-04a9-4e6a-83b5-2b62b874dc5e",
   "metadata": {},
   "outputs": [],
   "source": [
    "a=[0.7 , 0.75, 1.85]\n",
    "# convert a list to a numpy array\n",
    "a_nparray = np.array(a)"
   ]
  },
  {
   "cell_type": "code",
   "execution_count": 13,
   "id": "446455cd-16fd-44af-b371-cc36f6778d80",
   "metadata": {},
   "outputs": [
    {
     "data": {
      "image/png": "[encoded data removed]",
      "text/plain": [
       "<Figure size 432x288 with 1 Axes>"
      ]
     },
     "metadata": {
      "needs_background": "light"
     },
     "output_type": "display_data"
    }
   ],
   "source": [
    "t = np.arange(1,4)\n",
    "fig_name = 'hw1.png'\n",
    "plt.plot(t,a_nparray,'b-o')\n",
    "plt.xlabel('t')\n",
    "plt.ylabel('a')\n",
    "plt.title('I can make a plot')\n",
    "plt.savefig(fig_name,format='png', dpi=600)"
   ]
  },
  {
   "cell_type": "code",
   "execution_count": 11,
   "id": "1c4e7a66-0def-482d-b7e6-80fcfeb44c15",
   "metadata": {},
   "outputs": [],
   "source": [
    "def function_add(x,y):\n",
    "    xysum = 2*x+y\n",
    "    return xysum"
   ]
  },
  {
   "cell_type": "code",
   "execution_count": 12,
   "id": "a4510a45-56db-4f36-bd80-4ad57ab5b29e",
   "metadata": {},
   "outputs": [
    {
     "name": "stdout",
     "output_type": "stream",
     "text": [
      "5\n"
     ]
    }
   ],
   "source": [
    "xy = function_add(1,3)\n",
    "print(xy)"
   ]
  },
  {
   "cell_type": "code",
   "execution_count": null,
   "id": "b7b8a3cb-5493-45cf-bd69-f95f4797a6a0",
   "metadata": {},
   "outputs": [],
   "source": []
  }
 ],
 "metadata": {
  "kernelspec": {
   "display_name": "Python 3 (ipykernel)",
   "language": "python",
   "name": "python3"
  },
  "language_info": {
   "codemirror_mode": {
    "name": "ipython",
    "version": 3
   },
   "file_extension": ".py",
   "mimetype": "text/x-python",
   "name": "python",
   "nbconvert_exporter": "python",
   "pygments_lexer": "ipython3",
   "version": "3.8.13"
  }
 },
 "nbformat": 4,
 "nbformat_minor": 5
}
